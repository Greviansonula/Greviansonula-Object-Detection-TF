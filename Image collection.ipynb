{
 "cells": [
  {
   "cell_type": "code",
   "execution_count": 1,
   "metadata": {},
   "outputs": [],
   "source": [
    "import cv2\n",
    "import uuid\n",
    "import os\n",
    "import time"
   ]
  },
  {
   "cell_type": "code",
   "execution_count": 2,
   "metadata": {},
   "outputs": [],
   "source": [
    "labels = ['thumbsup', 'thumbsdown', 'thankyou', 'livelong']\n",
    "number_imgs = 5"
   ]
  },
  {
   "cell_type": "code",
   "execution_count": 3,
   "metadata": {},
   "outputs": [],
   "source": [
    "IMAGES_PATH = os.path.join('Tensorflow', 'workspace', 'images', 'collectedimages')"
   ]
  },
  {
   "cell_type": "code",
   "execution_count": 4,
   "metadata": {},
   "outputs": [],
   "source": [
    "if not os.path.exists(IMAGES_PATH):\n",
    "    if os.name == 'posix':\n",
    "        !mkdir -p {IMAGES_PATH}\n",
    "    if os.name == 'nt':\n",
    "        !mkdir {IMAGES_PATH}\n",
    "for label in labels:\n",
    "    path = os.path.join(IMAGES_PATH, label)\n",
    "    if not os.path.exists(path):\n",
    "        !mkdir {path}"
   ]
  },
  {
   "cell_type": "code",
   "execution_count": 8,
   "metadata": {},
   "outputs": [
    {
     "data": {
      "text/plain": [
       "'nt'"
      ]
     },
     "execution_count": 8,
     "metadata": {},
     "output_type": "execute_result"
    }
   ],
   "source": [
    "os.name"
   ]
  },
  {
   "cell_type": "code",
   "execution_count": 9,
   "metadata": {},
   "outputs": [
    {
     "name": "stdout",
     "output_type": "stream",
     "text": [
      "Collecting images for thumbsup\n",
      "Collecting image 0\n",
      "Collecting image 1\n",
      "Collecting image 2\n",
      "Collecting image 3\n",
      "Collecting image 4\n",
      "Collecting images for thumbsdown\n",
      "Collecting image 0\n",
      "Collecting image 1\n",
      "Collecting image 2\n",
      "Collecting image 3\n",
      "Collecting image 4\n",
      "Collecting images for thankyou\n",
      "Collecting image 0\n",
      "Collecting image 1\n",
      "Collecting image 2\n",
      "Collecting image 3\n",
      "Collecting image 4\n",
      "Collecting images for livelong\n",
      "Collecting image 0\n",
      "Collecting image 1\n",
      "Collecting image 2\n",
      "Collecting image 3\n",
      "Collecting image 4\n"
     ]
    }
   ],
   "source": [
    "for label in labels:\n",
    "    cap = cv2.VideoCapture(0)\n",
    "    print('Collecting images for {}'.format(label))\n",
    "    time.sleep(5)\n",
    "    for imgnum in range(number_imgs):\n",
    "        print('Collecting image {}'.format(imgnum))\n",
    "        ret, frame = cap.read()\n",
    "        imgname = os.path.join(IMAGES_PATH, label, label + '.'  + '{}.jpg'.format(str(uuid.uuid1())))\n",
    "        cv2.imwrite(imgname, frame)\n",
    "        cv2.imshow('frame', frame)\n",
    "        time.sleep(2)\n",
    "\n",
    "        if cv2.waitKey(1) & 0xFF == ord('q'):\n",
    "            break\n",
    "cap.release()\n",
    "cv2.destroyAllWindows()\n",
    "        "
   ]
  },
  {
   "cell_type": "code",
   "execution_count": 11,
   "metadata": {},
   "outputs": [
    {
     "name": "stdout",
     "output_type": "stream",
     "text": [
      "Collecting pyqt5\n",
      "  Downloading PyQt5-5.15.8-cp37-abi3-win_amd64.whl (6.8 MB)\n",
      "     ---------------------------------------- 6.8/6.8 MB 482.5 kB/s eta 0:00:00\n",
      "Requirement already satisfied: lxml in c:\\users\\grevi\\anaconda3\\lib\\site-packages (4.9.1)\n",
      "Collecting lxml\n",
      "  Using cached lxml-4.9.2-cp39-cp39-win_amd64.whl (3.9 MB)\n",
      "Collecting PyQt5-Qt5>=5.15.2\n",
      "  Downloading PyQt5_Qt5-5.15.2-py3-none-win_amd64.whl (50.1 MB)\n",
      "     -------------------------------------- 50.1/50.1 MB 529.7 kB/s eta 0:00:00\n",
      "Collecting PyQt5-sip<13,>=12.11\n",
      "  Downloading PyQt5_sip-12.11.1-cp39-cp39-win_amd64.whl (78 kB)\n",
      "     -------------------------------------- 78.4/78.4 kB 242.5 kB/s eta 0:00:00\n",
      "Installing collected packages: PyQt5-Qt5, PyQt5-sip, lxml, pyqt5\n",
      "  Attempting uninstall: lxml\n",
      "    Found existing installation: lxml 4.9.1\n",
      "    Uninstalling lxml-4.9.1:\n",
      "      Successfully uninstalled lxml-4.9.1\n",
      "Successfully installed PyQt5-Qt5-5.15.2 PyQt5-sip-12.11.1 lxml-4.9.2 pyqt5-5.15.8\n"
     ]
    },
    {
     "name": "stderr",
     "output_type": "stream",
     "text": [
      "ERROR: pip's dependency resolver does not currently take into account all the packages that are installed. This behaviour is the source of the following dependency conflicts.\n",
      "spyder 5.2.2 requires pyqtwebengine<5.13, which is not installed.\n",
      "spyder 5.2.2 requires pyqt5<5.13, but you have pyqt5 5.15.8 which is incompatible.\n"
     ]
    }
   ],
   "source": [
    "!pip install --upgrade pyqt5 lxml"
   ]
  },
  {
   "cell_type": "code",
   "execution_count": 5,
   "metadata": {},
   "outputs": [],
   "source": [
    "LABELING_PATH = os.path.join('Tensorflow', 'labeling')"
   ]
  },
  {
   "cell_type": "code",
   "execution_count": 7,
   "metadata": {},
   "outputs": [
    {
     "name": "stderr",
     "output_type": "stream",
     "text": [
      "Cloning into 'Tensorflow\\labeling'...\n",
      "Updating files:  19% (23/117)\n",
      "Updating files:  20% (24/117)\n",
      "Updating files:  21% (25/117)\n",
      "Updating files:  22% (26/117)\n",
      "Updating files:  23% (27/117)\n",
      "Updating files:  24% (29/117)\n",
      "Updating files:  25% (30/117)\n",
      "Updating files:  26% (31/117)\n",
      "Updating files:  27% (32/117)\n",
      "Updating files:  28% (33/117)\n",
      "Updating files:  29% (34/117)\n",
      "Updating files:  30% (36/117)\n",
      "Updating files:  31% (37/117)\n",
      "Updating files:  32% (38/117)\n",
      "Updating files:  33% (39/117)\n",
      "Updating files:  34% (40/117)\n",
      "Updating files:  35% (41/117)\n",
      "Updating files:  36% (43/117)\n",
      "Updating files:  37% (44/117)\n",
      "Updating files:  38% (45/117)\n",
      "Updating files:  39% (46/117)\n",
      "Updating files:  40% (47/117)\n",
      "Updating files:  41% (48/117)\n",
      "Updating files:  42% (50/117)\n",
      "Updating files:  43% (51/117)\n",
      "Updating files:  44% (52/117)\n",
      "Updating files:  45% (53/117)\n",
      "Updating files:  46% (54/117)\n",
      "Updating files:  47% (55/117)\n",
      "Updating files:  48% (57/117)\n",
      "Updating files:  49% (58/117)\n",
      "Updating files:  50% (59/117)\n",
      "Updating files:  51% (60/117)\n",
      "Updating files:  52% (61/117)\n",
      "Updating files:  53% (63/117)\n",
      "Updating files:  54% (64/117)\n",
      "Updating files:  55% (65/117)\n",
      "Updating files:  56% (66/117)\n",
      "Updating files:  57% (67/117)\n",
      "Updating files:  58% (68/117)\n",
      "Updating files:  59% (70/117)\n",
      "Updating files:  60% (71/117)\n",
      "Updating files:  61% (72/117)\n",
      "Updating files:  62% (73/117)\n",
      "Updating files:  63% (74/117)\n",
      "Updating files:  64% (75/117)\n",
      "Updating files:  65% (77/117)\n",
      "Updating files:  66% (78/117)\n",
      "Updating files:  67% (79/117)\n",
      "Updating files:  68% (80/117)\n",
      "Updating files:  69% (81/117)\n",
      "Updating files:  70% (82/117)\n",
      "Updating files:  71% (84/117)\n",
      "Updating files:  72% (85/117)\n",
      "Updating files:  73% (86/117)\n",
      "Updating files:  74% (87/117)\n",
      "Updating files:  75% (88/117)\n",
      "Updating files:  76% (89/117)\n",
      "Updating files:  77% (91/117)\n",
      "Updating files:  78% (92/117)\n",
      "Updating files:  79% (93/117)\n",
      "Updating files:  80% (94/117)\n",
      "Updating files:  81% (95/117)\n",
      "Updating files:  82% (96/117)\n",
      "Updating files:  83% (98/117)\n",
      "Updating files:  84% (99/117)\n",
      "Updating files:  85% (100/117)\n",
      "Updating files:  86% (101/117)\n",
      "Updating files:  87% (102/117)\n",
      "Updating files:  88% (103/117)\n",
      "Updating files:  89% (105/117)\n",
      "Updating files:  90% (106/117)\n",
      "Updating files:  91% (107/117)\n",
      "Updating files:  92% (108/117)\n",
      "Updating files:  93% (109/117)\n",
      "Updating files:  94% (110/117)\n",
      "Updating files:  95% (112/117)\n",
      "Updating files:  96% (113/117)\n",
      "Updating files:  97% (114/117)\n",
      "Updating files:  98% (115/117)\n",
      "Updating files:  99% (116/117)\n",
      "Updating files: 100% (117/117)\n",
      "Updating files: 100% (117/117), done.\n"
     ]
    }
   ],
   "source": [
    "if not os.path.exists(LABELING_PATH):\n",
    "    !mkdir {LABELING_PATH}\n",
    "    !git clone https://github.com/tzutalin/labelImg {LABELING_PATH}"
   ]
  },
  {
   "cell_type": "code",
   "execution_count": 8,
   "metadata": {},
   "outputs": [],
   "source": [
    "if os.name == 'posix':\n",
    "    !cd {LABELING_PATH} && make qt5py3\n",
    "if os.name == 'nt':\n",
    "    !cd {LABELING_PATH} && pyrcc5 -o libs/resources.py resources.qrc"
   ]
  },
  {
   "cell_type": "code",
   "execution_count": 10,
   "metadata": {},
   "outputs": [
    {
     "name": "stdout",
     "output_type": "stream",
     "text": [
      "Cancel creation.\n",
      "Image:E:\\TF\\Greviansonula-Object-Detection-TF\\Tensorflow\\workspace\\images\\collectedimages\\livelong\\livelong.a2b4a481-9fa0-11ed-8afd-ecb1d798c7f4.jpg -> Annotation:E:/TF/Greviansonula-Object-Detection-TF/Tensorflow/workspace/images/collectedimages/livelong\\livelong.a2b4a481-9fa0-11ed-8afd-ecb1d798c7f4.xml\n",
      "Cancel creation.\n",
      "Image:E:\\TF\\Greviansonula-Object-Detection-TF\\Tensorflow\\workspace\\images\\collectedimages\\livelong\\livelong.a3ec322a-9fa0-11ed-b768-ecb1d798c7f4.jpg -> Annotation:E:/TF/Greviansonula-Object-Detection-TF/Tensorflow/workspace/images/collectedimages/livelong\\livelong.a3ec322a-9fa0-11ed-b768-ecb1d798c7f4.xml\n",
      "Cancel creation.\n",
      "Image:E:\\TF\\Greviansonula-Object-Detection-TF\\Tensorflow\\workspace\\images\\collectedimages\\livelong\\livelong.a656b150-9fa0-11ed-8833-ecb1d798c7f4.jpg -> Annotation:E:/TF/Greviansonula-Object-Detection-TF/Tensorflow/workspace/images/collectedimages/livelong\\livelong.a656b150-9fa0-11ed-8833-ecb1d798c7f4.xml\n",
      "Image:E:\\TF\\Greviansonula-Object-Detection-TF\\Tensorflow\\workspace\\images\\collectedimages\\livelong\\livelong.a17c0b7d-9fa0-11ed-890b-ecb1d798c7f4.jpg -> Annotation:E:/TF/Greviansonula-Object-Detection-TF/Tensorflow/workspace/images/collectedimages/livelong\\livelong.a17c0b7d-9fa0-11ed-890b-ecb1d798c7f4.xml\n",
      "Image:E:\\TF\\Greviansonula-Object-Detection-TF\\Tensorflow\\workspace\\images\\collectedimages\\livelong\\livelong.a521eea2-9fa0-11ed-a07b-ecb1d798c7f4.jpg -> Annotation:E:/TF/Greviansonula-Object-Detection-TF/Tensorflow/workspace/images/collectedimages/livelong\\livelong.a521eea2-9fa0-11ed-a07b-ecb1d798c7f4.xml\n",
      "Cancel creation.\n",
      "Image:E:\\TF\\Greviansonula-Object-Detection-TF\\Tensorflow\\workspace\\images\\collectedimages\\thankyou\\thankyou.8acbd0a3-9fa0-11ed-9b74-ecb1d798c7f4.jpg -> Annotation:E:/TF/Greviansonula-Object-Detection-TF/Tensorflow/workspace/images/collectedimages/thankyou\\thankyou.8acbd0a3-9fa0-11ed-9b74-ecb1d798c7f4.xml\n",
      "Image:E:\\TF\\Greviansonula-Object-Detection-TF\\Tensorflow\\workspace\\images\\collectedimages\\thankyou\\thankyou.8c038820-9fa0-11ed-907a-ecb1d798c7f4.jpg -> Annotation:E:/TF/Greviansonula-Object-Detection-TF/Tensorflow/workspace/images/collectedimages/thankyou\\thankyou.8c038820-9fa0-11ed-907a-ecb1d798c7f4.xml\n",
      "Image:E:\\TF\\Greviansonula-Object-Detection-TF\\Tensorflow\\workspace\\images\\collectedimages\\thankyou\\thankyou.8d37e5f1-9fa0-11ed-a97b-ecb1d798c7f4.jpg -> Annotation:E:/TF/Greviansonula-Object-Detection-TF/Tensorflow/workspace/images/collectedimages/thankyou\\thankyou.8d37e5f1-9fa0-11ed-a97b-ecb1d798c7f4.xml\n",
      "Image:E:\\TF\\Greviansonula-Object-Detection-TF\\Tensorflow\\workspace\\images\\collectedimages\\thankyou\\thankyou.8e6e395b-9fa0-11ed-a4fd-ecb1d798c7f4.jpg -> Annotation:E:/TF/Greviansonula-Object-Detection-TF/Tensorflow/workspace/images/collectedimages/thankyou\\thankyou.8e6e395b-9fa0-11ed-a4fd-ecb1d798c7f4.xml\n",
      "Image:E:\\TF\\Greviansonula-Object-Detection-TF\\Tensorflow\\workspace\\images\\collectedimages\\thankyou\\thankyou.899140a1-9fa0-11ed-8762-ecb1d798c7f4.jpg -> Annotation:E:/TF/Greviansonula-Object-Detection-TF/Tensorflow/workspace/images/collectedimages/thankyou\\thankyou.899140a1-9fa0-11ed-8762-ecb1d798c7f4.xml\n",
      "Image:E:\\TF\\Greviansonula-Object-Detection-TF\\Tensorflow\\workspace\\images\\collectedimages\\thumbsdown\\thumbsdown.75b1ca67-9fa0-11ed-add3-ecb1d798c7f4.jpg -> Annotation:E:/TF/Greviansonula-Object-Detection-TF/Tensorflow/workspace/images/collectedimages/thumbsdown\\thumbsdown.75b1ca67-9fa0-11ed-add3-ecb1d798c7f4.xml\n",
      "Image:E:\\TF\\Greviansonula-Object-Detection-TF\\Tensorflow\\workspace\\images\\collectedimages\\thumbsdown\\thumbsdown.76e67aaf-9fa0-11ed-8c71-ecb1d798c7f4.jpg -> Annotation:E:/TF/Greviansonula-Object-Detection-TF/Tensorflow/workspace/images/collectedimages/thumbsdown\\thumbsdown.76e67aaf-9fa0-11ed-8c71-ecb1d798c7f4.xml\n",
      "Image:E:\\TF\\Greviansonula-Object-Detection-TF\\Tensorflow\\workspace\\images\\collectedimages\\thumbsdown\\thumbsdown.747d60ac-9fa0-11ed-89bf-ecb1d798c7f4.jpg -> Annotation:E:/TF/Greviansonula-Object-Detection-TF/Tensorflow/workspace/images/collectedimages/thumbsdown\\thumbsdown.747d60ac-9fa0-11ed-89bf-ecb1d798c7f4.xml\n",
      "Image:E:\\TF\\Greviansonula-Object-Detection-TF\\Tensorflow\\workspace\\images\\collectedimages\\thumbsdown\\thumbsdown.7348ce43-9fa0-11ed-aa11-ecb1d798c7f4.jpg -> Annotation:E:/TF/Greviansonula-Object-Detection-TF/Tensorflow/workspace/images/collectedimages/thumbsdown\\thumbsdown.7348ce43-9fa0-11ed-aa11-ecb1d798c7f4.xml\n",
      "Image:E:\\TF\\Greviansonula-Object-Detection-TF\\Tensorflow\\workspace\\images\\collectedimages\\thumbsdown\\thumbsdown.72145390-9fa0-11ed-b828-ecb1d798c7f4.jpg -> Annotation:E:/TF/Greviansonula-Object-Detection-TF/Tensorflow/workspace/images/collectedimages/thumbsdown\\thumbsdown.72145390-9fa0-11ed-b828-ecb1d798c7f4.xml\n",
      "Cancel creation.\n",
      "Image:E:\\TF\\Greviansonula-Object-Detection-TF\\Tensorflow\\workspace\\images\\collectedimages\\thumbsup\\thumbsup.5b395757-9fa0-11ed-8158-ecb1d798c7f4.jpg -> Annotation:E:/TF/Greviansonula-Object-Detection-TF/Tensorflow/workspace/images/collectedimages/thumbsup\\thumbsup.5b395757-9fa0-11ed-8158-ecb1d798c7f4.xml\n",
      "Image:E:\\TF\\Greviansonula-Object-Detection-TF\\Tensorflow\\workspace\\images\\collectedimages\\thumbsup\\thumbsup.5c77aa7d-9fa0-11ed-96b6-ecb1d798c7f4.jpg -> Annotation:E:/TF/Greviansonula-Object-Detection-TF/Tensorflow/workspace/images/collectedimages/thumbsup\\thumbsup.5c77aa7d-9fa0-11ed-96b6-ecb1d798c7f4.xml\n",
      "Image:E:\\TF\\Greviansonula-Object-Detection-TF\\Tensorflow\\workspace\\images\\collectedimages\\thumbsup\\thumbsup.5dae2180-9fa0-11ed-a676-ecb1d798c7f4.jpg -> Annotation:E:/TF/Greviansonula-Object-Detection-TF/Tensorflow/workspace/images/collectedimages/thumbsup\\thumbsup.5dae2180-9fa0-11ed-a676-ecb1d798c7f4.xml\n",
      "Image:E:\\TF\\Greviansonula-Object-Detection-TF\\Tensorflow\\workspace\\images\\collectedimages\\thumbsup\\thumbsup.5ee2e42b-9fa0-11ed-af17-ecb1d798c7f4.jpg -> Annotation:E:/TF/Greviansonula-Object-Detection-TF/Tensorflow/workspace/images/collectedimages/thumbsup\\thumbsup.5ee2e42b-9fa0-11ed-af17-ecb1d798c7f4.xml\n",
      "Image:E:\\TF\\Greviansonula-Object-Detection-TF\\Tensorflow\\workspace\\images\\collectedimages\\thumbsup\\thumbsup.6017e911-9fa0-11ed-86c2-ecb1d798c7f4.jpg -> Annotation:E:/TF/Greviansonula-Object-Detection-TF/Tensorflow/workspace/images/collectedimages/thumbsup\\thumbsup.6017e911-9fa0-11ed-86c2-ecb1d798c7f4.xml\n"
     ]
    }
   ],
   "source": [
    "!cd {LABELING_PATH} && python labelImg.py"
   ]
  },
  {
   "cell_type": "code",
   "execution_count": 13,
   "metadata": {},
   "outputs": [],
   "source": [
    "TRAIN_PATH = os.path.join('Tensorflow', 'workspace','images', 'train')\n",
    "TEST_PATH = os.path.join('Tensorflow', 'workspace','images', 'test')\n",
    "ARCHIVE_PATH = os.path.join('Tensorflow', 'workspace','images', 'archive.tar')"
   ]
  },
  {
   "cell_type": "code",
   "execution_count": 14,
   "metadata": {},
   "outputs": [
    {
     "name": "stderr",
     "output_type": "stream",
     "text": [
      "tar: : Couldn't visit directory: No such file or directory\n",
      "tar: : Couldn't visit directory: No such file or directory\n",
      "tar: Error exit delayed from previous errors.\n"
     ]
    }
   ],
   "source": [
    "!tar -czf {ARCHIVE_PATH} {TRAIN_PATH} {TEST_PATH}"
   ]
  },
  {
   "cell_type": "code",
   "execution_count": null,
   "metadata": {},
   "outputs": [],
   "source": []
  }
 ],
 "metadata": {
  "kernelspec": {
   "display_name": "Python 3 (ipykernel)",
   "language": "python",
   "name": "python3"
  },
  "language_info": {
   "codemirror_mode": {
    "name": "ipython",
    "version": 3
   },
   "file_extension": ".py",
   "mimetype": "text/x-python",
   "name": "python",
   "nbconvert_exporter": "python",
   "pygments_lexer": "ipython3",
   "version": "3.9.13"
  },
  "vscode": {
   "interpreter": {
    "hash": "13b5fffbe8869bfc5ef37455a773ca2a0c7d13bdb12536a0b966f99736ee6f39"
   }
  }
 },
 "nbformat": 4,
 "nbformat_minor": 2
}
